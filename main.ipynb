{
 "cells": [
  {
   "cell_type": "code",
   "execution_count": 1,
   "metadata": {},
   "outputs": [],
   "source": [
    "from selenium import webdriver\n",
    "import time\n",
    "import pyautogui\n",
    "import os\n",
    "import shutil\n",
    "import psycopg2\n",
    "\n"
   ]
  },
  {
   "cell_type": "code",
   "execution_count": 2,
   "metadata": {},
   "outputs": [],
   "source": [
    "ROOT_ORIGINAL = \"C://Users//otavi//Downloads\"\n",
    "ROOT_DESTINO = \"D://unimater//3º Período//Ciências de Dados//Pipeline_python//CSV\"\n",
    "\n",
    "arquivos = os.listdir(ROOT_ORIGINAL)\n",
    "for arquivo in arquivos:\n",
    "    if arquivo.endswith('.csv'):\n",
    "        caminho_original = os.path.join(ROOT_ORIGINAL, arquivo)\n",
    "        caminho_destino = os.path.join(ROOT_DESTINO, arquivo)\n",
    "        shutil.move(caminho_original,caminho_destino)"
   ]
  },
  {
   "cell_type": "code",
   "execution_count": 11,
   "metadata": {},
   "outputs": [
    {
     "ename": "NoSuchWindowException",
     "evalue": "Message: no such window: target window already closed\nfrom unknown error: web view not found\n  (Session info: chrome=124.0.6367.202)\nStacktrace:\n\tGetHandleVerifier [0x00007FF7F3031522+60802]\n\t(No symbol) [0x00007FF7F2FAAC22]\n\t(No symbol) [0x00007FF7F2E67CE4]\n\t(No symbol) [0x00007FF7F2E3DFDF]\n\t(No symbol) [0x00007FF7F2EE1E57]\n\t(No symbol) [0x00007FF7F2EF98D1]\n\t(No symbol) [0x00007FF7F2EDA923]\n\t(No symbol) [0x00007FF7F2EA8FEC]\n\t(No symbol) [0x00007FF7F2EA9C21]\n\tGetHandleVerifier [0x00007FF7F33341BD+3217949]\n\tGetHandleVerifier [0x00007FF7F3376157+3488183]\n\tGetHandleVerifier [0x00007FF7F336F0DF+3459391]\n\tGetHandleVerifier [0x00007FF7F30EB8E6+823622]\n\t(No symbol) [0x00007FF7F2FB5FBF]\n\t(No symbol) [0x00007FF7F2FB0EE4]\n\t(No symbol) [0x00007FF7F2FB1072]\n\t(No symbol) [0x00007FF7F2FA18C4]\n\tBaseThreadInitThunk [0x00007FF99A33257D+29]\n\tRtlUserThreadStart [0x00007FF99C5CAA48+40]\n",
     "output_type": "error",
     "traceback": [
      "\u001b[1;31m---------------------------------------------------------------------------\u001b[0m",
      "\u001b[1;31mNoSuchWindowException\u001b[0m                     Traceback (most recent call last)",
      "Cell \u001b[1;32mIn[11], line 3\u001b[0m\n\u001b[0;32m      1\u001b[0m drive \u001b[38;5;241m=\u001b[39m webdriver\u001b[38;5;241m.\u001b[39mChrome()\n\u001b[0;32m      2\u001b[0m drive\u001b[38;5;241m.\u001b[39mget(\u001b[38;5;124m'\u001b[39m\u001b[38;5;124mhttps://br.financas.yahoo.com/quote/ITUB3.SA/history\u001b[39m\u001b[38;5;124m'\u001b[39m)\n\u001b[1;32m----> 3\u001b[0m \u001b[43mdrive\u001b[49m\u001b[38;5;241;43m.\u001b[39;49m\u001b[43mfind_element\u001b[49m\u001b[43m(\u001b[49m\u001b[38;5;124;43m'\u001b[39;49m\u001b[38;5;124;43mxpath\u001b[39;49m\u001b[38;5;124;43m'\u001b[39;49m\u001b[43m,\u001b[49m\u001b[38;5;124;43m'\u001b[39;49m\u001b[38;5;124;43m//*[@id=\u001b[39;49m\u001b[38;5;124;43m\"\u001b[39;49m\u001b[38;5;124;43mCol1-1-HistoricalDataTable-Proxy\u001b[39;49m\u001b[38;5;124;43m\"\u001b[39;49m\u001b[38;5;124;43m]/section/div[1]/div[1]/div[1]/div/div\u001b[39;49m\u001b[38;5;124;43m'\u001b[39;49m\u001b[43m)\u001b[49m\u001b[38;5;241m.\u001b[39mclick()\n",
      "File \u001b[1;32mc:\\Python311\\Lib\\site-packages\\selenium\\webdriver\\remote\\webdriver.py:739\u001b[0m, in \u001b[0;36mWebDriver.find_element\u001b[1;34m(self, by, value)\u001b[0m\n\u001b[0;32m    736\u001b[0m     by \u001b[38;5;241m=\u001b[39m By\u001b[38;5;241m.\u001b[39mCSS_SELECTOR\n\u001b[0;32m    737\u001b[0m     value \u001b[38;5;241m=\u001b[39m \u001b[38;5;124mf\u001b[39m\u001b[38;5;124m'\u001b[39m\u001b[38;5;124m[name=\u001b[39m\u001b[38;5;124m\"\u001b[39m\u001b[38;5;132;01m{\u001b[39;00mvalue\u001b[38;5;132;01m}\u001b[39;00m\u001b[38;5;124m\"\u001b[39m\u001b[38;5;124m]\u001b[39m\u001b[38;5;124m'\u001b[39m\n\u001b[1;32m--> 739\u001b[0m \u001b[38;5;28;01mreturn\u001b[39;00m \u001b[38;5;28;43mself\u001b[39;49m\u001b[38;5;241;43m.\u001b[39;49m\u001b[43mexecute\u001b[49m\u001b[43m(\u001b[49m\u001b[43mCommand\u001b[49m\u001b[38;5;241;43m.\u001b[39;49m\u001b[43mFIND_ELEMENT\u001b[49m\u001b[43m,\u001b[49m\u001b[43m \u001b[49m\u001b[43m{\u001b[49m\u001b[38;5;124;43m\"\u001b[39;49m\u001b[38;5;124;43musing\u001b[39;49m\u001b[38;5;124;43m\"\u001b[39;49m\u001b[43m:\u001b[49m\u001b[43m \u001b[49m\u001b[43mby\u001b[49m\u001b[43m,\u001b[49m\u001b[43m \u001b[49m\u001b[38;5;124;43m\"\u001b[39;49m\u001b[38;5;124;43mvalue\u001b[39;49m\u001b[38;5;124;43m\"\u001b[39;49m\u001b[43m:\u001b[49m\u001b[43m \u001b[49m\u001b[43mvalue\u001b[49m\u001b[43m}\u001b[49m\u001b[43m)\u001b[49m[\u001b[38;5;124m\"\u001b[39m\u001b[38;5;124mvalue\u001b[39m\u001b[38;5;124m\"\u001b[39m]\n",
      "File \u001b[1;32mc:\\Python311\\Lib\\site-packages\\selenium\\webdriver\\remote\\webdriver.py:345\u001b[0m, in \u001b[0;36mWebDriver.execute\u001b[1;34m(self, driver_command, params)\u001b[0m\n\u001b[0;32m    343\u001b[0m response \u001b[38;5;241m=\u001b[39m \u001b[38;5;28mself\u001b[39m\u001b[38;5;241m.\u001b[39mcommand_executor\u001b[38;5;241m.\u001b[39mexecute(driver_command, params)\n\u001b[0;32m    344\u001b[0m \u001b[38;5;28;01mif\u001b[39;00m response:\n\u001b[1;32m--> 345\u001b[0m     \u001b[38;5;28;43mself\u001b[39;49m\u001b[38;5;241;43m.\u001b[39;49m\u001b[43merror_handler\u001b[49m\u001b[38;5;241;43m.\u001b[39;49m\u001b[43mcheck_response\u001b[49m\u001b[43m(\u001b[49m\u001b[43mresponse\u001b[49m\u001b[43m)\u001b[49m\n\u001b[0;32m    346\u001b[0m     response[\u001b[38;5;124m\"\u001b[39m\u001b[38;5;124mvalue\u001b[39m\u001b[38;5;124m\"\u001b[39m] \u001b[38;5;241m=\u001b[39m \u001b[38;5;28mself\u001b[39m\u001b[38;5;241m.\u001b[39m_unwrap_value(response\u001b[38;5;241m.\u001b[39mget(\u001b[38;5;124m\"\u001b[39m\u001b[38;5;124mvalue\u001b[39m\u001b[38;5;124m\"\u001b[39m, \u001b[38;5;28;01mNone\u001b[39;00m))\n\u001b[0;32m    347\u001b[0m     \u001b[38;5;28;01mreturn\u001b[39;00m response\n",
      "File \u001b[1;32mc:\\Python311\\Lib\\site-packages\\selenium\\webdriver\\remote\\errorhandler.py:229\u001b[0m, in \u001b[0;36mErrorHandler.check_response\u001b[1;34m(self, response)\u001b[0m\n\u001b[0;32m    227\u001b[0m         alert_text \u001b[38;5;241m=\u001b[39m value[\u001b[38;5;124m\"\u001b[39m\u001b[38;5;124malert\u001b[39m\u001b[38;5;124m\"\u001b[39m]\u001b[38;5;241m.\u001b[39mget(\u001b[38;5;124m\"\u001b[39m\u001b[38;5;124mtext\u001b[39m\u001b[38;5;124m\"\u001b[39m)\n\u001b[0;32m    228\u001b[0m     \u001b[38;5;28;01mraise\u001b[39;00m exception_class(message, screen, stacktrace, alert_text)  \u001b[38;5;66;03m# type: ignore[call-arg]  # mypy is not smart enough here\u001b[39;00m\n\u001b[1;32m--> 229\u001b[0m \u001b[38;5;28;01mraise\u001b[39;00m exception_class(message, screen, stacktrace)\n",
      "\u001b[1;31mNoSuchWindowException\u001b[0m: Message: no such window: target window already closed\nfrom unknown error: web view not found\n  (Session info: chrome=124.0.6367.202)\nStacktrace:\n\tGetHandleVerifier [0x00007FF7F3031522+60802]\n\t(No symbol) [0x00007FF7F2FAAC22]\n\t(No symbol) [0x00007FF7F2E67CE4]\n\t(No symbol) [0x00007FF7F2E3DFDF]\n\t(No symbol) [0x00007FF7F2EE1E57]\n\t(No symbol) [0x00007FF7F2EF98D1]\n\t(No symbol) [0x00007FF7F2EDA923]\n\t(No symbol) [0x00007FF7F2EA8FEC]\n\t(No symbol) [0x00007FF7F2EA9C21]\n\tGetHandleVerifier [0x00007FF7F33341BD+3217949]\n\tGetHandleVerifier [0x00007FF7F3376157+3488183]\n\tGetHandleVerifier [0x00007FF7F336F0DF+3459391]\n\tGetHandleVerifier [0x00007FF7F30EB8E6+823622]\n\t(No symbol) [0x00007FF7F2FB5FBF]\n\t(No symbol) [0x00007FF7F2FB0EE4]\n\t(No symbol) [0x00007FF7F2FB1072]\n\t(No symbol) [0x00007FF7F2FA18C4]\n\tBaseThreadInitThunk [0x00007FF99A33257D+29]\n\tRtlUserThreadStart [0x00007FF99C5CAA48+40]\n"
     ]
    }
   ],
   "source": [
    "drive = webdriver.Chrome()\n",
    "drive.get('https://br.financas.yahoo.com/quote/ITUB3.SA/history')\n",
    "drive.find_element('xpath','//*[@id=\"Col1-1-HistoricalDataTable-Proxy\"]/section/div[1]/div[1]/div[1]/div/div').click()"
   ]
  },
  {
   "cell_type": "code",
   "execution_count": 3,
   "metadata": {},
   "outputs": [],
   "source": [
    "\n",
    "conn = psycopg2.connect(\n",
    "    host=\"localhost\",\n",
    "    database=\"Mercado_Financeiro\",\n",
    "    user=\"postgres\",\n",
    "    password=\"schmieleski1!\",\n",
    "    port=\"5432\"\n",
    ")"
   ]
  },
  {
   "cell_type": "code",
   "execution_count": 22,
   "metadata": {},
   "outputs": [],
   "source": [
    "create_table = \"\"\"\n",
    "    CREATE TABLE IF NOT EXISTS itau (\n",
    "        date DATE,\n",
    "        open NUMERIC,\n",
    "        high NUMERIC,\n",
    "        low NUMERIC,\n",
    "        close NUMERIC,\n",
    "        adj_close NUMERIC,\n",
    "        volume BIGINT\n",
    "    )\n",
    "\n",
    "\"\"\""
   ]
  },
  {
   "cell_type": "code",
   "execution_count": 4,
   "metadata": {},
   "outputs": [],
   "source": [
    "cur = conn.cursor()\n",
    "#cur.execute(create_table)\n",
    "conn.commit()"
   ]
  },
  {
   "cell_type": "code",
   "execution_count": 5,
   "metadata": {},
   "outputs": [],
   "source": [
    "file_path = './ITUB3.SA.csv'\n",
    "def load_data(cur,file_path):\n",
    "    with open (file_path,'r') as f:\n",
    "        next(f)\n",
    "        cur.copy_expert(sql=\"COPY itau FROM STDIN CSV HEADER\", file=f)\n",
    "        conn.commit()\n",
    "    print('Dados inseridos com suceso!')"
   ]
  },
  {
   "cell_type": "code",
   "execution_count": 6,
   "metadata": {},
   "outputs": [
    {
     "name": "stdout",
     "output_type": "stream",
     "text": [
      "Dados inseridos com suceso!\n"
     ]
    }
   ],
   "source": [
    "load_data(cur,file_path)"
   ]
  }
 ],
 "metadata": {
  "kernelspec": {
   "display_name": "Python 3",
   "language": "python",
   "name": "python3"
  },
  "language_info": {
   "codemirror_mode": {
    "name": "ipython",
    "version": 3
   },
   "file_extension": ".py",
   "mimetype": "text/x-python",
   "name": "python",
   "nbconvert_exporter": "python",
   "pygments_lexer": "ipython3",
   "version": "3.11.4"
  }
 },
 "nbformat": 4,
 "nbformat_minor": 2
}
